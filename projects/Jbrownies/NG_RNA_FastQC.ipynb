{
 "cells": [
  {
   "cell_type": "markdown",
   "metadata": {},
   "source": [
    "# JBrownies\n",
    "### FastQC and Trimmomatic on RNAseq reads\n",
    "James, Nathalia, Michael\n",
    "10.29.2017"
   ]
  },
  {
   "cell_type": "markdown",
   "metadata": {},
   "source": [
    "### FastQC\n",
    "source:"
   ]
  },
  {
   "cell_type": "code",
   "execution_count": null,
   "metadata": {
    "collapsed": true
   },
   "outputs": [],
   "source": [
    "ngraf@ip-172-30-0-209:/data/project/Asp_nidulans$ /data/project/applications/FastQC/fastqc Asp_nidulans_rnaseq_1.fastq Asp_nidulans_rnaseq_2.fastq "
   ]
  },
  {
   "cell_type": "markdown",
   "metadata": {},
   "source": [
    "Output FastQC:\n",
    "[FastQC_output](http://jbrownies.programmingforbiology.org/fastqc.html)\n"
   ]
  },
  {
   "cell_type": "code",
   "execution_count": null,
   "metadata": {
    "collapsed": true
   },
   "outputs": [],
   "source": []
  },
  {
   "cell_type": "markdown",
   "metadata": {},
   "source": [
    "### Trimmomatic\n",
    "source:"
   ]
  },
  {
   "cell_type": "code",
   "execution_count": null,
   "metadata": {
    "collapsed": true
   },
   "outputs": [],
   "source": [
    "ngraf@ip-172-30-0-209:/data/project/Asp_nidulans$ java -jar /data/project/applications/Trimmomatic-0.36/trimmomatic-0.36.jar PE -phred33 Asp_nidulans_rnaseq_1.fastq Asp_nidulans_rnaseq_2.fastq output_Aspnidulans_rnaseq_1_trimmed_paired.fastq output_Aspnidulans_rnaseq_1_trimmed_unpaired.fastq output_Aspnidulans_rnaseq_2_trimmed_paired.fastq output_Aspnidulans_rnaseq_2_trimmed_unpaired.fastq ILLUMINACLIP:/data/project/applications/Trimmomatic-0.36/adapters/TruSeq3-PE.fa:2:30:10 LEADING:3 TRAILING:3 SLIDINGWINDOW:4:15 MINLEN:36"
   ]
  },
  {
   "cell_type": "markdown",
   "metadata": {},
   "source": [
    "Output a total of 4 files (trimmed_paired and trimmed_unpaired for both reads)\n",
    "file:///Volumes/NO%20NAME/output_Aspnidulans_rnaseq_1_trimmed_paired_fastqc.html\n",
    "file:///Volumes/NO%20NAME/output_Aspnidulans_rnaseq_1_trimmed_unpaired_fastqc.html\n",
    "file:///Volumes/NO%20NAME/output_Aspnidulans_rnaseq_2_trimmed_paired_fastqc.html\n",
    "file:///Volumes/NO%20NAME/output_Aspnidulans_rnaseq_2_trimmed_unpaired_fastqc.html"
   ]
  },
  {
   "cell_type": "code",
   "execution_count": null,
   "metadata": {
    "collapsed": true
   },
   "outputs": [],
   "source": []
  },
  {
   "cell_type": "code",
   "execution_count": null,
   "metadata": {
    "collapsed": true
   },
   "outputs": [],
   "source": []
  },
  {
   "cell_type": "code",
   "execution_count": null,
   "metadata": {
    "collapsed": true
   },
   "outputs": [],
   "source": [
    "ngraf@ip-172-30-0-209:/data/project/Asp_nidulans$ /data/project/applications/FastQC/fastqc output_Aspnidulans_rnaseq_1_trimmed_paired.fastq output_Aspnidulans_rnaseq_1_trimmed_unpaired.fastq output_Aspnidulans_rnaseq_2_trimmed_paired.fastq output_Aspnidulans_rnaseq_2_trimmed_unpaired.fastq"
   ]
  },
  {
   "cell_type": "code",
   "execution_count": null,
   "metadata": {
    "collapsed": true
   },
   "outputs": [],
   "source": []
  },
  {
   "cell_type": "code",
   "execution_count": null,
   "metadata": {
    "collapsed": true
   },
   "outputs": [],
   "source": []
  },
  {
   "cell_type": "code",
   "execution_count": null,
   "metadata": {
    "collapsed": true
   },
   "outputs": [],
   "source": []
  }
 ],
 "metadata": {
  "kernelspec": {
   "display_name": "Python 3",
   "language": "python",
   "name": "python3"
  },
  "language_info": {
   "codemirror_mode": {
    "name": "ipython",
    "version": 3
   },
   "file_extension": ".py",
   "mimetype": "text/x-python",
   "name": "python",
   "nbconvert_exporter": "python",
   "pygments_lexer": "ipython3",
   "version": "3.6.3"
  }
 },
 "nbformat": 4,
 "nbformat_minor": 2
}

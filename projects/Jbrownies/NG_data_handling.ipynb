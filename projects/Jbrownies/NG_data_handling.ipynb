{
 "cells": [
  {
   "cell_type": "markdown",
   "metadata": {},
   "source": [
    "# JBrownies\n",
    "### Data\n",
    "James, Nathalia, Michael\n",
    "10.28.2017"
   ]
  },
  {
   "cell_type": "markdown",
   "metadata": {},
   "source": [
    "Source: JGI-MycoCosm\n",
    "https://genome.jgi.doe.gov/programs/fungi/index.jsf"
   ]
  },
  {
   "cell_type": "markdown",
   "metadata": {},
   "source": [
    "### Aspergillus nidulans\n",
    "\n",
    "-Assembled scaffolds, unmasked\n",
    "-Transcripts\n",
    "-CDS, filtered (=best) gene models\n",
    "\n",
    "Genome status:\n",
    "https://genome.jgi.doe.gov/Aspnid1/Aspnid1.info.html\n",
    "\n",
    "References:\n",
    "1) Arnaud MB, Cerqueira GC, Inglis DO, Skrzypek MS, Binkley J, Chibucos MC, Crabtree J, Howarth C, Orvis J, Shah P, Wymore F, Binkley G, Miyasato SR, Simison M, Sherlock G, Wortman JR \n",
    "The Aspergillus Genome Database (AspGD): recent developments in comprehensive multispecies curation, comparative genomics and community resources. \n",
    "Nucleic Acids Res. 2012 Jan;40(Database issue):D653-9. doi: 10.1093/nar/gkr875. Epub 2011 Nov 12. \n",
    "\n",
    "2) Galagan JE, Calvo SE, Cuomo C, Ma LJ, Wortman JR, Batzoglou S, Lee SI, Basturkmen M, Spevak CC, Clutterbuck J, Kapitonov V, Jurka J, Scazzocchio C, Farman M, Butler J, Purcell S, Harris S, Braus GH, Draht O, Busch S, D'Enfert C, Bouchier C, Goldman GH, Bell-Pedersen D, Griffiths-Jones S, Doonan JH, Yu J, Vienken K, Pain A, Freitag M, Selker EU, Archer DB, Penalva MA, Oakley BR, Momany M, Tanaka T, Kumagai T, Asai K, Machida M, Nierman WC, Denning DW, Caddick M, Hynes M, Paoletti M, Fischer R, Miller B, Dyer P, Sachs MS, Osmani SA, Birren BW \n",
    "Sequencing of Aspergillus nidulans and comparative analysis with A. fumigatus and A. oryzae. \n",
    "Nature. 2005 Dec 22;438(7071):1105-15."
   ]
  },
  {
   "cell_type": "markdown",
   "metadata": {},
   "source": [
    "### Aspergillus fumigatus\n",
    "\n",
    "-Filtered protein models\n",
    "\n",
    "Genome status:\n",
    "https://genome.jgi.doe.gov/Aspfu_A1163_1/Aspfu_A1163_1.info.html\n",
    "\n",
    "References:\n",
    "1) Fedorova ND, Khaldi N, Joardar VS, Maiti R, Amedeo P, Anderson MJ, Crabtree J, Silva JC, Badger JH, Albarraq A, Angiuoli S, Bussey H, Bowyer P, Cotty PJ, Dyer PS, Egan A, Galens K, Fraser-Liggett CM, Haas BJ, Inman JM, Kent R, Lemieux S, Malavazi I, Orvis J, Roemer T, Ronning CM, Sundaram JP, Sutton G, Turner G, Venter JC, White OR, Whitty BR, Youngman P, Wolfe KH, Goldman GH, Wortman JR, Jiang B, Denning DW, Nierman WC \n",
    "Genomic islands in the pathogenic filamentous fungus Aspergillus fumigatus. \n",
    "PLoS Genet. 2008 Apr 11;4(4):e1000046. doi: 10.1371/journal.pgen.1000046. \n",
    "\n",
    "2) Nierman WC, Pain A, Anderson MJ, Wortman JR, Kim HS, Arroyo J, Berriman M, Abe K, Archer DB, Bermejo C, Bennett J, Bowyer P, Chen D, Collins M, Coulsen R, Davies R, Dyer PS, Farman M, Fedorova N, Fedorova N, Feldblyum TV, Fischer R, Fosker N, Fraser A, Garcia JL, Garcia MJ, Goble A, Goldman GH, Gomi K, Griffith-Jones S, Gwilliam R, Haas B, Haas H, Harris D, Horiuchi H, Huang J, Humphray S, Jimenez J, Keller N, Khouri H, Kitamoto K, Kobayashi T, Konzack S, Kulkarni R, Kumagai T, Lafon A, Latge JP, Li W, Lord A, Lu C, Majoros WH, May GS, Miller BL, Mohamoud Y, Molina M, Monod M, Mouyna I, Mulligan S, Murphy L, O'Neil S, Paulsen I, Penalva MA, Pertea M, Price C, Pritchard BL, Quail MA, Rabbinowitsch E, Rawlins N, Rajandream MA, Reichard U, Renauld H, Robson GD, Rodriguez de Cordoba S, Rodriguez-Pena JM, Ronning CM, Rutter S, Salzberg SL, Sanchez M, Sanchez-Ferrero JC, Saunders D, Seeger K, Squares R, Squares S, Takeuchi M, Tekaia F, Turner G, Vazquez de Aldana CR, Weidman J, White O, Woodward J, Yu JH, Fraser C, Galagan JE, Asai K, Machida M, Hall N, Barrell B, Denning DW \n",
    "Genomic sequence of the pathogenic and allergenic filamentous fungus Aspergillus fumigatus. \n",
    "Nature. 2005 Dec 22;438(7071):1151-6. \n",
    "\n",
    "3) Ronning CM, Fedorova ND, Bowyer P, Coulson R, Goldman G, Kim HS, Turner G, Wortman JR, Yu J, Anderson MJ, Denning DW, Nierman WC \n",
    "Genomics of Aspergillus fumigatus. \n",
    "Rev Iberoam Micol. 2005 Dec;22(4):223-8. \n",
    "\n",
    "4) Joardar V, Abrams NF, Hostetler J, Paukstelis PJ, Pakala S, Pakala SB, Zafar N, Abolude OO, Payne G, Andrianopoulos A, Denning DW, Nierman WC \n",
    "Sequencing of mitochondrial genomes of nine Aspergillus and Penicillium species identifies mobile introns and accessory genes as main sources of genome size variability. \n",
    "BMC Genomics. 2012 Dec 12;13:698. doi: 10.1186/1471-2164-13-698. \n"
   ]
  },
  {
   "cell_type": "markdown",
   "metadata": {},
   "source": [
    "Download to local machine. Move to server:"
   ]
  },
  {
   "cell_type": "raw",
   "metadata": {},
   "source": [
    "pfbta1:PFB2017-JBrownies admin$ scp -i ~/.ssh/PFB2017-Projects.pem -r Asp_nidulans ngraf@jbrownies.programmingforbiology.org:/data/project/\n"
   ]
  },
  {
   "cell_type": "markdown",
   "metadata": {},
   "source": [
    "Source: NCBI-SRA\n",
    "https://www.ncbi.nlm.nih.gov/sra/docs/sradownload/"
   ]
  },
  {
   "cell_type": "markdown",
   "metadata": {},
   "source": [
    "### RNA-seq evidence \n",
    "\n",
    "Reference:\n",
    "Wang S et al., \"Transcriptomic Analysis Reveals Genes Mediating Salt Tolerance through Calcineurin/CchA-Independent Signaling in Aspergillus nidulans.\", Biomed Res Int, 2017 Aug 20;2017:4378627\n",
    "\n",
    "https://trace.ncbi.nlm.nih.gov/Traces/sra/?run=SRR5740797\n",
    "\n",
    "Direct download to server."
   ]
  },
  {
   "cell_type": "raw",
   "metadata": {},
   "source": [
    "ngraf@ip-172-30-0-209:/data/project/Asp_nidulans$ /data/project/applications/sratoolkit.2.8.2-1-ubuntu64/bin/fastq-dump ––split-files SRR5740797"
   ]
  }
 ],
 "metadata": {
  "kernelspec": {
   "display_name": "Python 3",
   "language": "python",
   "name": "python3"
  },
  "language_info": {
   "codemirror_mode": {
    "name": "ipython",
    "version": 3
   },
   "file_extension": ".py",
   "mimetype": "text/x-python",
   "name": "python",
   "nbconvert_exporter": "python",
   "pygments_lexer": "ipython3",
   "version": "3.6.3"
  }
 },
 "nbformat": 4,
 "nbformat_minor": 2
}

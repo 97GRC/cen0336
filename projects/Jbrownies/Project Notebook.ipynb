{
 "cells": [
  {
   "cell_type": "markdown",
   "metadata": {},
   "source": [
    "## Goal: Annotate the genome of Aspergillus nidulans in JBrowse\n"
   ]
  },
  {
   "cell_type": "markdown",
   "metadata": {},
   "source": [
    "![Image](picsproject/JGI+portal+image+Aspergillus+nidulans+by+Yainitza+Hernandez+Rodriguez+at+UGA+adjusted.jpg)"
   ]
  },
  {
   "cell_type": "markdown",
   "metadata": {},
   "source": [
    "## Run Maker"
   ]
  },
  {
   "cell_type": "markdown",
   "metadata": {},
   "source": [
    "### Modify CTL files"
   ]
  },
  {
   "cell_type": "code",
   "execution_count": null,
   "metadata": {
    "collapsed": true
   },
   "outputs": [],
   "source": [
    "/data/project/Asp_nidulans/runmaker$ vim maker_opts.ctl"
   ]
  },
  {
   "cell_type": "markdown",
   "metadata": {},
   "source": [
    "![Image](picsproject/Screen Shot 2017-10-30 at 3.13.59 PM.png)"
   ]
  },
  {
   "cell_type": "code",
   "execution_count": null,
   "metadata": {
    "collapsed": true
   },
   "outputs": [],
   "source": [
    "protein_gff=  #aligned protein homology evidence from an external GFF3 file\n",
    "\n",
    "#-----Repeat Masking (leave values blank to skip repeat masking)\n",
    "model_org=all #select a model organism for RepBase masking in RepeatMasker\n",
    "rmlib= #provide an organism specific repeat library in fasta format for RepeatMasker\n",
    "repeat_protein=/data/project/applications/maker/data/te_proteins.fasta #provide a fasta file of transposable element proteins for RepeatRunner\n",
    "rm_gff= #pre-identified repeat elements from an external GFF3 file\n",
    "prok_rm=0 #forces MAKER to repeatmask prokaryotes (no reason to change this), 1 = yes, 0 = no\n",
    "softmask=1 #use soft-masking rather than hard-masking in BLAST (i.e. seg and dust filtering)\n",
    "\n",
    "#-----Gene Prediction\n",
    "snaphmm= #SNAP HMM file\n",
    "gmhmm= #GeneMark HMM file\n",
    "augustus_species=aspergillus_fumigatus #Augustus gene prediction species model\n",
    "fgenesh_par_file= #FGENESH parameter file\n",
    "pred_gff= #ab-initio predictions from an external GFF3 file\n",
    "model_gff= #annotated gene models from an external GFF3 file (annotation pass-through)\n",
    "run_evm=1 #run EvidenceModeler, 1 = yes, 0 = no\n",
    "est2genome=0 #infer gene predictions directly from ESTs, 1 = yes, 0 = no\n",
    "protein2genome=0 #infer predictions from protein homology, 1 = yes, 0 = no\n",
    "trna=0 #find tRNAs with tRNAscan, 1 = yes, 0 = no\n",
    "snoscan_rrna= #rRNA file to have Snoscan find snoRNAs\n",
    "snoscan_meth= #-O-methylation site fileto have Snoscan find snoRNAs\n",
    "unmask=0 #also run ab-initio prediction programs on unmasked sequence, 1 = yes, 0 = no\n",
    "allow_overlap= #allowed gene overlap fraction (value from 0 to 1, blank for default)\n",
    "\n",
    "#-----Other Annotation Feature Types (features MAKER doesn't recognize)\n",
    "other_gff= #extra features to pass-through to final MAKER generated GFF3 file\n",
    "\n",
    "#-----External Application Behavior Options\n",
    "alt_peptide=C #amino acid used to replace non-standard amino acids in BLAST databases\n",
    "cpus=1 #max number of cpus to use in BLAST and RepeatMasker (not for MPI, leave 1 when using MPI)\n",
    "\n",
    "#-----MAKER Behavior Options\n",
    "max_dna_len=100000 #length for dividing up contigs into chunks (increases/decreases memory usage)\n",
    "min_contig=1 #skip genome contigs below this length (under 10kb are often useless)\n",
    "\n",
    "pred_flank=200 #flank for extending evidence clusters sent to gene predictors\n",
    "pred_stats=0 #report AED and QI statistics for all predictions as well as models\n",
    "AED_threshold=1 #Maximum Annotation Edit Distance allowed (bound by 0 and 1)\n",
    "min_protein=0 #require at least this many amino acids in predicted proteins\n",
    "alt_splice=0 #Take extra steps to try and find alternative splicing, 1 = yes, 0 = no\n",
    "always_complete=1 #extra steps to force start and stop codons, 1 = yes, 0 = no\n",
    "map_forward=0 #map names and attributes forward from old GFF3 genes, 1 = yes, 0 = no\n",
    "keep_preds=0 #Concordance threshold to add unsupported gene prediction (bound by 0 and 1)\n",
    "\n",
    "split_hit=10000 #length for the splitting of hits (expected max intron size for evidence alignments)\n",
    "min_intron=20 #minimum intron length (used for alignment polishing)\n",
    "single_exon=1 #consider single exon EST evidence when generating annotations, 1 = yes, 0 = no\n",
    "single_length=250 #min length required for single exon ESTs if 'single_exon is enabled'\n",
    "correct_est_fusion=1 #limits use of ESTs in annotation to avoid fusion genes\n",
    "\n",
    "tries=2 #number of times to try a contig if there is a failure for some reason\n",
    "clean_try=0 #remove all data from previous run before retrying, 1 = yes, 0 = no\n",
    "clean_up=0 #removes theVoid directory with individual analysis files, 1 = yes, 0 = no\n",
    "TMP= #specify a directory other than the system default temporary directory for temporary files"
   ]
  },
  {
   "cell_type": "code",
   "execution_count": null,
   "metadata": {
    "collapsed": true
   },
   "outputs": [],
   "source": [
    "/data/project/Asp_nidulans/runmaker$ vim maker_exe.ctl"
   ]
  },
  {
   "cell_type": "markdown",
   "metadata": {},
   "source": [
    "![Image](picsproject/Screen Shot 2017-10-30 at 3.15.32 PM.png)"
   ]
  },
  {
   "cell_type": "code",
   "execution_count": null,
   "metadata": {
    "collapsed": true
   },
   "outputs": [],
   "source": [
    "#-----Location of Executables Used by MAKER/EVALUATOR\n",
    "makeblastdb=/data/project/applications/maker/bin/../exe/blast/bin/makeblastdb #location of NCBI+ makeblastdb executable\n",
    "blastn=/data/project/applications/maker/bin/../exe/blast/bin/blastn #location of NCBI+ blastn executable\n",
    "blastx=/data/project/applications/maker/bin/../exe/blast/bin/blastx #location of NCBI+ blastx executable\n",
    "tblastx=/data/project/applications/maker/bin/../exe/blast/bin/tblastx #location of NCBI+ tblastx executable\n",
    "formatdb= #location of NCBI formatdb executable\n",
    "blastall= #location of NCBI blastall executable\n",
    "xdformat= #location of WUBLAST xdformat executable\n",
    "blasta= #location of WUBLAST blasta executable\n",
    "prerapsearch= #location of prerapsearch executable\n",
    "rapsearch= #location of rapsearch executable\n",
    "RepeatMasker=/data/project/applications/maker/bin/../exe/RepeatMasker/RepeatMasker #location of RepeatMasker executable\n",
    "exonerate=/data/project/applications/maker/bin/../exe/exonerate/bin/exonerate #location of exonerate executable\n",
    "\n",
    "#-----Ab-initio Gene Prediction Algorithms\n",
    "snap=/usr/bin/snap #location of snap executable\n",
    "gmhmme3= #location of eukaryotic genemark executable\n",
    "gmhmmp= #location of prokaryotic genemark executable\n",
    "augustus=/data/project/applications/maker/exe/augustus/bin/augustus #location of augustus executable\n",
    "fgenesh= #location of fgenesh executable\n",
    "evm=/data/project/applications/EVidenceModeler-1.1.1/evidence_modeler.pl #location of EvidenceModeler executable\n",
    "tRNAscan-SE= #location of trnascan executable\n",
    "snoscan= #location of snoscan executable\n",
    "\n",
    "#-----Other Algorithms\n",
    "probuild= #location of probuild executable (required for genemark)\n",
    "~                                                                     "
   ]
  },
  {
   "cell_type": "markdown",
   "metadata": {},
   "source": [
    "### Command to run Maker"
   ]
  },
  {
   "cell_type": "code",
   "execution_count": null,
   "metadata": {
    "collapsed": true
   },
   "outputs": [],
   "source": [
    "nohup /data/project/applications/maker/bin/maker &>> makererr.log &"
   ]
  },
  {
   "cell_type": "markdown",
   "metadata": {},
   "source": [
    "This was repeated 7 more times to run each chromosome on a CPU\n",
    "Maker gave us GFF3 and FASTA files"
   ]
  },
  {
   "cell_type": "code",
   "execution_count": null,
   "metadata": {
    "collapsed": true
   },
   "outputs": [],
   "source": [
    "#!/usr/bin/env python3\n",
    "\n",
    "import sys\n",
    "\n",
    "fh = open(sys.argv[1], 'r')\n",
    "#maker_file = open('maker.txt', 'a')\n",
    "\n",
    "\n",
    "for line in fh:\n",
    "        if not line.startswith('#'):\n",
    "                line = line.rstrip()\n",
    "                col = line.split('\\t')\n",
    "                if col[1] is not '.':\n",
    "                        outfile = open(col[1]+'.gff', 'a')\n",
    "\n",
    "                        outfile.write(line+'\\n')\n",
    "                        outfile.close()\n",
    "\n",
    "fh.close()"
   ]
  },
  {
   "cell_type": "markdown",
   "metadata": {},
   "source": [
    "![Image](picsproject/Screen Shot 2017-10-30 at 3.02.25 PM.png)"
   ]
  },
  {
   "cell_type": "markdown",
   "metadata": {},
   "source": [
    "![Image](picsproject/Screen Shot 2017-10-30 at 3.05.16 PM.png)"
   ]
  },
  {
   "cell_type": "markdown",
   "metadata": {},
   "source": [
    "## Upload GFF3 files to JBrowse"
   ]
  },
  {
   "cell_type": "code",
   "execution_count": null,
   "metadata": {
    "collapsed": true
   },
   "outputs": [],
   "source": [
    "$ bin/flatfile-to-json.pl --gff /data/project/Asp_nidulans/Aspnid1.filtered_proteins.AspGD_genes.gff3 --trackType CanvasFeatures --trackLabel jgi_models"
   ]
  },
  {
   "cell_type": "markdown",
   "metadata": {},
   "source": [
    "## Link to JBrowse"
   ]
  },
  {
   "cell_type": "markdown",
   "metadata": {},
   "source": [
    "http://jbrownies.programmingforbiology.org/jbrowse/?loc=ChrIII_A_nidulans_FGSC_A4%3A1979485..1979993&tracks=DNA%2Calignments&highlight="
   ]
  }
 ],
 "metadata": {
  "kernelspec": {
   "display_name": "Python 3",
   "language": "python",
   "name": "python3"
  },
  "language_info": {
   "codemirror_mode": {
    "name": "ipython",
    "version": 3
   },
   "file_extension": ".py",
   "mimetype": "text/x-python",
   "name": "python",
   "nbconvert_exporter": "python",
   "pygments_lexer": "ipython3",
   "version": "3.6.3"
  }
 },
 "nbformat": 4,
 "nbformat_minor": 2
}

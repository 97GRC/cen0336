{
 "cells": [
  {
   "cell_type": "markdown",
   "metadata": {},
   "source": [
    "# JBrownies\n",
    "### Reference guided transcriptome assembly\n",
    "James, Nathalia, Michael\n",
    "10.29.2017"
   ]
  },
  {
   "cell_type": "markdown",
   "metadata": {},
   "source": [
    "# Hisat2\n",
    "source:"
   ]
  },
  {
   "cell_type": "markdown",
   "metadata": {},
   "source": [
    "1) Index reference genome"
   ]
  },
  {
   "cell_type": "code",
   "execution_count": null,
   "metadata": {
    "collapsed": true
   },
   "outputs": [],
   "source": [
    "ngraf@ip-172-30-0-209:/data/project/Asp_nidulans$ /data/project/applications/hisat2-2.1.0/hisat2-build -f Aspnid1_AssemblyScaffolds.fasta Aspni_hisat2"
   ]
  },
  {
   "cell_type": "markdown",
   "metadata": {},
   "source": [
    "2) Aligning RNAseq evidence to genome"
   ]
  },
  {
   "cell_type": "code",
   "execution_count": null,
   "metadata": {
    "collapsed": true
   },
   "outputs": [],
   "source": [
    "ngraf@ip-172-30-0-209:/data/project/Asp_nidulans$ /data/project/applications/hisat2-2.1.0/hisat2 -5 10 -x Aspni_hisat2 -1 output_Aspnidulans_rnaseq_1_trimmed_paired.fastq -2 output_Aspnidulans_rnaseq_2_trimmed_paired.fastq -S Aspni_hisat2.sam"
   ]
  },
  {
   "cell_type": "markdown",
   "metadata": {},
   "source": [
    "This step takes some time. In our case, it took somewhere between 30 min and 1 hour."
   ]
  },
  {
   "cell_type": "markdown",
   "metadata": {},
   "source": [
    "# Samtools\n",
    "source:"
   ]
  },
  {
   "cell_type": "markdown",
   "metadata": {},
   "source": [
    "3) Convert from .sam to .bam"
   ]
  },
  {
   "cell_type": "code",
   "execution_count": null,
   "metadata": {
    "collapsed": true
   },
   "outputs": [],
   "source": [
    "ngraf@ip-172-30-0-209:/data/project/Asp_nidulans$ samtools view -Sb Aspni_hisat2.sam -o Aspni_hisat2.bam"
   ]
  },
  {
   "cell_type": "markdown",
   "metadata": {},
   "source": [
    "4) Sort .bam"
   ]
  },
  {
   "cell_type": "code",
   "execution_count": null,
   "metadata": {
    "collapsed": true
   },
   "outputs": [],
   "source": [
    "ngraf@ip-172-30-0-209:/data/project/Asp_nidulans$ samtools sort Aspni_hisat2.bam Aspni_hisat_sorted"
   ]
  },
  {
   "cell_type": "markdown",
   "metadata": {},
   "source": [
    "# StringTie\n",
    "source:"
   ]
  },
  {
   "cell_type": "markdown",
   "metadata": {},
   "source": [
    "5) Generate .gtf from .bam"
   ]
  },
  {
   "cell_type": "code",
   "execution_count": null,
   "metadata": {
    "collapsed": true
   },
   "outputs": [],
   "source": [
    "ngraf@ip-172-30-0-209:/data/project/Asp_nidulans$ nohup /data/project/applications/stringtie-1.3.3b.Linux_x86_64/stringtie -v Aspni_hisat_sorted.bam -o Aspni_stringtie.gtf &> Aspni_stderr.log"
   ]
  },
  {
   "cell_type": "markdown",
   "metadata": {},
   "source": [
    "# Cufflinks\n",
    "source:"
   ]
  },
  {
   "cell_type": "markdown",
   "metadata": {},
   "source": [
    "6) Convert from .gtf to .gff "
   ]
  },
  {
   "cell_type": "code",
   "execution_count": null,
   "metadata": {
    "collapsed": true
   },
   "outputs": [],
   "source": [
    "ngraf@ip-172-30-0-209:/data/project/Asp_nidulans$ /data/project/applications/maker/bin/cufflinks2gff3 Aspni_stringtie.gtf > Aspni_stringtie.gff"
   ]
  }
 ],
 "metadata": {
  "kernelspec": {
   "display_name": "Python 3",
   "language": "python",
   "name": "python3"
  },
  "language_info": {
   "codemirror_mode": {
    "name": "ipython",
    "version": 3
   },
   "file_extension": ".py",
   "mimetype": "text/x-python",
   "name": "python",
   "nbconvert_exporter": "python",
   "pygments_lexer": "ipython3",
   "version": "3.6.3"
  }
 },
 "nbformat": 4,
 "nbformat_minor": 2
}
